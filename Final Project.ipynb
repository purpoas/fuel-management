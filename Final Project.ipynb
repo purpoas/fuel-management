{
 "cells": [
  {
   "cell_type": "markdown",
   "id": "285a5e08",
   "metadata": {},
   "source": [
    "# Final Project_Team 1"
   ]
  },
  {
   "cell_type": "markdown",
   "id": "df715f56",
   "metadata": {},
   "source": [
    "**Group Member:<br>`Lidan Cao`, `Yu Chen`, `Yexi Shen`, `Wentao Shi`**"
   ]
  },
  {
   "cell_type": "markdown",
   "id": "312377f8",
   "metadata": {},
   "source": [
    "Notation:\n",
    "- **`DataFrame`**\n",
    "- `Column`\n",
    "- *`Data Type`*"
   ]
  },
  {
   "cell_type": "markdown",
   "id": "13c7b888",
   "metadata": {},
   "source": [
    "## Import Packages"
   ]
  },
  {
   "cell_type": "code",
   "execution_count": null,
   "id": "323d6c20",
   "metadata": {},
   "outputs": [],
   "source": [
    "import pandas as pd\n",
    "import matplotlib.pyplot as plt\n",
    "import missingno as msno\n",
    "import seaborn as sns\n",
    "import numpy as np\n",
    "import datetime"
   ]
  },
  {
   "cell_type": "markdown",
   "id": "051aff15",
   "metadata": {},
   "source": [
    "## Load Datasets"
   ]
  },
  {
   "cell_type": "code",
   "execution_count": null,
   "id": "3904045e",
   "metadata": {},
   "outputs": [],
   "source": [
    "locations = pd.read_csv('Locations-1.csv')\n",
    "tanks = pd.read_csv('Tanks-1.csv')\n",
    "invoices = pd.read_csv('Invoices-1.csv')\n",
    "fuel_level_1 = pd.read_csv('Fuel_Level_Part_1-1.csv')\n",
    "fuel_level_2 = pd.read_csv('Fuel_Level_Part_2-1.csv')"
   ]
  },
  {
   "cell_type": "markdown",
   "id": "f92b0a8f",
   "metadata": {},
   "source": [
    "### Concatenate `fuel_level_1` and `fuel_level_2` as `fuel`\n",
    "They have diffenrent column names, so we renamed the inconsistent column names in **`fuel_level_2`** before concat."
   ]
  },
  {
   "cell_type": "code",
   "execution_count": null,
   "id": "55ad726c",
   "metadata": {},
   "outputs": [],
   "source": [
    "fuel_level_2.rename(columns={'Fuel_Level':'Fuel Level','Timestamp':'Time stamp'},inplace=True) # column names to be consistent\n",
    "fuel = pd.concat([fuel_level_1,fuel_level_2],ignore_index = True)"
   ]
  },
  {
   "cell_type": "markdown",
   "id": "222fab99",
   "metadata": {},
   "source": [
    "## Data Cleaning"
   ]
  },
  {
   "cell_type": "markdown",
   "id": "e84db7eb",
   "metadata": {},
   "source": [
    "### Missing Values Check in `locations`"
   ]
  },
  {
   "cell_type": "code",
   "execution_count": null,
   "id": "194fe44d",
   "metadata": {},
   "outputs": [],
   "source": [
    "msno.matrix(locations)"
   ]
  },
  {
   "cell_type": "markdown",
   "id": "2ff9c5be",
   "metadata": {},
   "source": [
    "There's no missing value in **`locations`**."
   ]
  },
  {
   "cell_type": "markdown",
   "id": "09cd2744",
   "metadata": {},
   "source": [
    "### Missing Values Check in `tanks`"
   ]
  },
  {
   "cell_type": "code",
   "execution_count": null,
   "id": "c2785acf",
   "metadata": {},
   "outputs": [],
   "source": [
    "msno.matrix(tanks)"
   ]
  },
  {
   "cell_type": "markdown",
   "id": "6ad358ef",
   "metadata": {},
   "source": [
    "There's no missing value in **`tanks`**."
   ]
  },
  {
   "cell_type": "markdown",
   "id": "dd220375",
   "metadata": {},
   "source": [
    "### Missing Values Check in `invoices`"
   ]
  },
  {
   "cell_type": "markdown",
   "id": "879cce0e",
   "metadata": {},
   "source": [
    "DataFrame **`invoices`** contains locations other than 1-8, so we removed other locations' records."
   ]
  },
  {
   "cell_type": "code",
   "execution_count": null,
   "id": "d5a55d57",
   "metadata": {},
   "outputs": [],
   "source": [
    "invoices = invoices[invoices['Invoice Gas Station Location']<=8] # remove locations other than 1-8\n",
    "msno.matrix(invoices)"
   ]
  },
  {
   "cell_type": "markdown",
   "id": "1b09a34e",
   "metadata": {},
   "source": [
    "DataFrame **`invoices`** has missing values. We checked the records containing NaN before omitting them."
   ]
  },
  {
   "cell_type": "code",
   "execution_count": null,
   "id": "583db25a",
   "metadata": {},
   "outputs": [],
   "source": [
    "invoices[invoices.isna().any(axis=1)]"
   ]
  },
  {
   "cell_type": "markdown",
   "id": "a1ee09da",
   "metadata": {},
   "source": [
    "Records with NaN are meaningless, can be omitted."
   ]
  },
  {
   "cell_type": "markdown",
   "id": "57f950c4",
   "metadata": {},
   "source": [
    "We calculated the proportion of the records containing NaN."
   ]
  },
  {
   "cell_type": "code",
   "execution_count": null,
   "id": "bfef8e19",
   "metadata": {},
   "outputs": [],
   "source": [
    "invoices.isna().sum()"
   ]
  },
  {
   "cell_type": "code",
   "execution_count": null,
   "id": "57d47428",
   "metadata": {},
   "outputs": [],
   "source": [
    "print(36/len(invoices))\n",
    "print(37/len(invoices)) # records can be omitted"
   ]
  },
  {
   "cell_type": "markdown",
   "id": "5dcbbc3b",
   "metadata": {},
   "source": [
    "The proportion is about 1%, can be omitted."
   ]
  },
  {
   "cell_type": "code",
   "execution_count": null,
   "id": "768dd275",
   "metadata": {},
   "outputs": [],
   "source": [
    "invoices.dropna(inplace=True) # drop missing values records\n",
    "invoices.reset_index(drop=True, inplace=True) # reset index\n",
    "msno.matrix(invoices)"
   ]
  },
  {
   "cell_type": "markdown",
   "id": "f1cf8e0d",
   "metadata": {},
   "source": [
    "There's no missing value in **`invoices`** now."
   ]
  },
  {
   "cell_type": "code",
   "execution_count": null,
   "id": "c854ceaf",
   "metadata": {},
   "outputs": [],
   "source": [
    "invoices.duplicated(['Invoice ID']).sum()"
   ]
  },
  {
   "cell_type": "markdown",
   "id": "7a01486e",
   "metadata": {},
   "source": [
    "`Invoice ID` does not have duplicates."
   ]
  },
  {
   "cell_type": "markdown",
   "id": "7d453ce4",
   "metadata": {},
   "source": [
    "### Missing Value Check in `fuel`"
   ]
  },
  {
   "cell_type": "code",
   "execution_count": null,
   "id": "1b4aa2cf",
   "metadata": {},
   "outputs": [],
   "source": [
    "msno.matrix(fuel)"
   ]
  },
  {
   "cell_type": "markdown",
   "id": "5f4bba19",
   "metadata": {},
   "source": [
    "DataFrame **`fuel`** has missing values. We checked the records containing NaN before omitting them."
   ]
  },
  {
   "cell_type": "code",
   "execution_count": null,
   "id": "ab9b37ec",
   "metadata": {},
   "outputs": [],
   "source": [
    "fuel[fuel.isna().any(axis=1)]"
   ]
  },
  {
   "cell_type": "markdown",
   "id": "2b07c356",
   "metadata": {},
   "source": [
    "Records with NaN are meaningless, can be omitted."
   ]
  },
  {
   "cell_type": "markdown",
   "id": "81a86fdf",
   "metadata": {},
   "source": [
    "We calculated the proportion of the records containing NaN."
   ]
  },
  {
   "cell_type": "code",
   "execution_count": null,
   "id": "90bd9d0a",
   "metadata": {},
   "outputs": [],
   "source": [
    "fuel.isna().sum()"
   ]
  },
  {
   "cell_type": "code",
   "execution_count": null,
   "id": "a25246c6",
   "metadata": {},
   "outputs": [],
   "source": [
    "2/len(fuel) # records can be omitted"
   ]
  },
  {
   "cell_type": "markdown",
   "id": "81ee1442",
   "metadata": {},
   "source": [
    "The proportion is tiny, can be omitted."
   ]
  },
  {
   "cell_type": "code",
   "execution_count": null,
   "id": "d5f55886",
   "metadata": {},
   "outputs": [],
   "source": [
    "fuel.dropna(inplace=True) # drop missing values records\n",
    "fuel.reset_index(drop=True, inplace=True) # reset index\n",
    "msno.matrix(fuel)"
   ]
  },
  {
   "cell_type": "markdown",
   "id": "b4e6cc93",
   "metadata": {},
   "source": [
    "There's no missing value in **`fuel`** now."
   ]
  },
  {
   "cell_type": "code",
   "execution_count": null,
   "id": "9485d91a",
   "metadata": {},
   "outputs": [],
   "source": [
    "print(\"Duplicates:\",fuel.duplicated(['Tank ID','Time stamp']).sum())\n",
    "print(\"Proportion:\",fuel.duplicated(['Tank ID','Time stamp']).sum()/len(fuel))"
   ]
  },
  {
   "cell_type": "markdown",
   "id": "81978b88",
   "metadata": {},
   "source": [
    "There are duplicates in **`fuel`** with a tiny proportion. We removed duplicates."
   ]
  },
  {
   "cell_type": "code",
   "execution_count": null,
   "id": "273af26b",
   "metadata": {},
   "outputs": [],
   "source": [
    "fuel = fuel.drop_duplicates(['Tank ID','Time stamp'],keep=False) # drop all duplicates\n",
    "fuel.reset_index(drop=True, inplace=True) # reset index\n",
    "print(\"Duplicates:\",fuel.duplicated(['Tank ID','Time stamp']).sum())"
   ]
  },
  {
   "cell_type": "markdown",
   "id": "067b598e",
   "metadata": {},
   "source": [
    "There's no duplicate in **`fuel`** now."
   ]
  },
  {
   "cell_type": "markdown",
   "id": "c1040c1b",
   "metadata": {},
   "source": [
    "## Exploratory Data Analysis"
   ]
  },
  {
   "cell_type": "markdown",
   "id": "79544e24",
   "metadata": {},
   "source": [
    "Locaion information can be obtained from **`locations`**."
   ]
  },
  {
   "cell_type": "code",
   "execution_count": null,
   "id": "848cb5af",
   "metadata": {},
   "outputs": [],
   "source": [
    "locations.info()"
   ]
  },
  {
   "cell_type": "code",
   "execution_count": null,
   "id": "b7be13c2",
   "metadata": {
    "scrolled": true
   },
   "outputs": [],
   "source": [
    "locations.head(8)"
   ]
  },
  {
   "cell_type": "markdown",
   "id": "fb7bc63f",
   "metadata": {},
   "source": [
    "After looking at the table, we found that all gas station locations are in Ontario, Canada, except for location 8. We checked again and saw that location 8's latitude and longitude don't match a place in Canada. Instead, they point to a spot in the water between Washington DC and Virginia. Need to fix this error in the data for location 8."
   ]
  },
  {
   "cell_type": "markdown",
   "id": "6d42f4ff",
   "metadata": {},
   "source": [
    "DataFrame **`tanks_by_location`** provides information on the quantity and specific tanks at each location."
   ]
  },
  {
   "cell_type": "code",
   "execution_count": null,
   "id": "54add49a",
   "metadata": {},
   "outputs": [],
   "source": [
    "tanks_by_location = tanks.groupby('Tank Location')['Tank ID'].apply(list).reset_index()\n",
    "tanks_by_location.columns = ['Location', 'Tanks']\n",
    "tanks_by_location = tanks_by_location.set_index('Location')\n",
    "tanks_by_location['Total Tanks'] = tanks_by_location['Tanks'].apply(len)\n",
    "tanks_by_location"
   ]
  },
  {
   "cell_type": "markdown",
   "id": "4d380852",
   "metadata": {},
   "source": [
    "### Cost"
   ]
  },
  {
   "cell_type": "markdown",
   "id": "b87fcaf3",
   "metadata": {},
   "source": [
    "Cost information can be obtained from **`invoices`**."
   ]
  },
  {
   "cell_type": "code",
   "execution_count": null,
   "id": "48720db8",
   "metadata": {},
   "outputs": [],
   "source": [
    "invoices.info()"
   ]
  },
  {
   "cell_type": "markdown",
   "id": "812f0678",
   "metadata": {},
   "source": [
    "The data type of `Invoice Date` was *`object`*, we converted it to *`datetime`* for future analysis."
   ]
  },
  {
   "cell_type": "code",
   "execution_count": null,
   "id": "ffd0f853",
   "metadata": {},
   "outputs": [],
   "source": [
    "invoices['Invoice Date'] = pd.to_datetime(invoices['Invoice Date'])"
   ]
  },
  {
   "cell_type": "markdown",
   "id": "dc373265",
   "metadata": {},
   "source": [
    "#### Yearly Gross Purchase Cost"
   ]
  },
  {
   "cell_type": "code",
   "execution_count": null,
   "id": "22fa2c0f",
   "metadata": {},
   "outputs": [],
   "source": [
    "invoices['Year'] = invoices['Invoice Date'].dt.year # add column 'Year' with value year from 'Invoice Date'\n",
    "yearly_cost_by_location = invoices.groupby(['Year', 'Invoice Gas Station Location'])['Gross Purchase Cost'].sum() # calculate total cost for each location yearly\n",
    "yearly_cost_by_location_unstacked = yearly_cost_by_location.unstack(fill_value=0) # transform the series into dataframe\n",
    "# plot data using stacked bar chart\n",
    "yearly_cost_by_location_unstacked.plot(kind='bar', stacked=True)\n",
    "plt.title('Yearly Gross Purchase Cost')\n",
    "plt.xlabel('Year')\n",
    "plt.ylabel('Total Gross Purchase Cost ($)')\n",
    "plt.legend(title='Location', bbox_to_anchor=(1.05, 1), loc='upper left')\n",
    "plt.grid(axis='y', linestyle='--')"
   ]
  },
  {
   "cell_type": "code",
   "execution_count": null,
   "id": "774bcd66",
   "metadata": {},
   "outputs": [],
   "source": [
    "invoices['Invoice Date'].value_counts().sort_index()"
   ]
  },
  {
   "cell_type": "markdown",
   "id": "7a423fc2",
   "metadata": {},
   "source": [
    "- The chart uses a scientific notation (1e7 on the y-axis) indicating that the cost values are in the **tens of millions**.\n",
    "- The total gross purchase cost for each year is a cumulative representation of all locations.\n",
    "- **Location 1** consistently appears to have the highest gross purchase cost over the three years.\n",
    "- The total gross purchase costs for 2017 and 2018 are almost the same, the cost for 2019 is about half that of the previous two years from the chart. However, from the raw data, we knew that the data for **2019 only covers January to August**, so it is reasonable that it is less than the previous years."
   ]
  },
  {
   "cell_type": "markdown",
   "id": "45c62669",
   "metadata": {},
   "source": [
    "#### Monthly Gross Purchase Cost"
   ]
  },
  {
   "cell_type": "code",
   "execution_count": null,
   "id": "400b781d",
   "metadata": {},
   "outputs": [],
   "source": [
    "invoices['Year-Month'] = invoices['Invoice Date'].dt.to_period('M') # add column 'Year-Month' with value year-month from 'Invoice Date'\n",
    "monthly_cost_by_location = invoices.groupby(['Year-Month', 'Invoice Gas Station Location'])['Gross Purchase Cost'].sum() # calculate total cost for each location\n",
    "monthly_cost_by_location_unstacked = monthly_cost_by_location.unstack(fill_value=0) # transform the series into dataframe\n",
    "# plot data using stacked bar chart\n",
    "monthly_cost_by_location_unstacked.plot(kind='bar', stacked=True)\n",
    "plt.title('Monthly Gross Purchase Cost')\n",
    "plt.xlabel('Year-Month')\n",
    "plt.ylabel('Total Gross Purchase Cost ($)')\n",
    "plt.xticks(rotation=90)\n",
    "plt.legend(title='Location', bbox_to_anchor=(1.05, 1), loc='upper left')\n",
    "plt.grid(axis='y', linestyle='--')"
   ]
  },
  {
   "cell_type": "markdown",
   "id": "fd567182",
   "metadata": {},
   "source": [
    "- The chart uses a scientific notation (1e6 on the y-axis) indicating that the cost values are in the **millions**.\n",
    "- The total gross purchase cost for each month is a cumulative representation of all locations.\n",
    "- **Location 1** consistently appears to have the highest gross purchase cost over monthes.\n",
    "- The total gross purchase cost tends to be higher in **January** and **the middle of each year**.\n",
    "- There is a pattern of fluctuation in total gross purchase costs over the months.\n",
    "- The total gross purchase costs for 2019-08 is about half that of the previous month from the chart. However, from the raw data, we knew that the data for **2019-08 only covers up to the 15th**, so it is reasonable that it is less than the previous month."
   ]
  },
  {
   "cell_type": "markdown",
   "id": "9c75cc42",
   "metadata": {},
   "source": [
    "#### Weekday Gross Purchase Cost"
   ]
  },
  {
   "cell_type": "code",
   "execution_count": null,
   "id": "6f509a77",
   "metadata": {},
   "outputs": [],
   "source": [
    "invoices['Weekday'] = invoices['Invoice Date'].dt.dayofweek # add column 'Weekday' with value day-of-week from 'Invoice Date'\n",
    "monthly_cost_by_location = invoices.groupby(['Weekday', 'Invoice Gas Station Location'])['Gross Purchase Cost'].sum() # calculate total cost for each location\n",
    "monthly_cost_by_location_unstacked = monthly_cost_by_location.unstack(fill_value=0) # transform the series into dataframe\n",
    "# plot data using stacked bar chart\n",
    "monthly_cost_by_location_unstacked.plot(kind='bar', stacked=True)\n",
    "plt.title('Weekday Gross Purchase Cost')\n",
    "plt.xlabel('Weekday')\n",
    "plt.ylabel('Total Gross Purchase Cost ($)')\n",
    "weekday_labels = ['Mon', 'Tue', 'Wed', 'Thu', 'Fri', 'Sat', 'Sun'] # transform numeric label into literal day-of-week\n",
    "plt.xticks(ticks=range(0, 7), labels=weekday_labels)\n",
    "plt.legend(title='Location', bbox_to_anchor=(1.05, 1), loc='upper left')\n",
    "plt.grid(axis='y', linestyle='--')"
   ]
  },
  {
   "cell_type": "markdown",
   "id": "376af04e",
   "metadata": {},
   "source": [
    "- The chart uses a scientific notation (1e7 on the y-axis) indicating that the cost values are in the **tens of millions**.\n",
    "- The total gross purchase cost for each weekday is a cumulative representation of all locations.\n",
    "- **Location 1** consistently appears to have the highest gross purchase cost over weekdays.\n",
    "- **Tuesday** and **Friday**, show a higher total gross purchase cost compared to other days of the week.\n",
    "- Besides weekdays, **Saturday** also has a few gross purchase cost."
   ]
  },
  {
   "cell_type": "markdown",
   "id": "1463a5b0",
   "metadata": {},
   "source": [
    "### Fuel Level"
   ]
  },
  {
   "cell_type": "markdown",
   "id": "c2cd7e63",
   "metadata": {},
   "source": [
    "Fuel level information can be obtained from **`fuel`**."
   ]
  },
  {
   "cell_type": "markdown",
   "id": "0da35747",
   "metadata": {},
   "source": [
    "Perform a left outer join on **`fuel`** and **`tanks`** to associate fuel level records with corresponding locations as **`fuel_location`**."
   ]
  },
  {
   "cell_type": "code",
   "execution_count": null,
   "id": "73aeb156",
   "metadata": {},
   "outputs": [],
   "source": [
    "fuel_location = pd.merge(fuel, tanks, how='left', on='Tank ID') # left outer join fuel and tanks\n",
    "fuel_location"
   ]
  },
  {
   "cell_type": "code",
   "execution_count": null,
   "id": "bfa8dd90",
   "metadata": {},
   "outputs": [],
   "source": [
    "fuel_location.info()"
   ]
  },
  {
   "cell_type": "markdown",
   "id": "ebe5351e",
   "metadata": {},
   "source": [
    "The data type of `Time stamp` was *`object`*, we converted it to *`datetime`* for future analysis."
   ]
  },
  {
   "cell_type": "code",
   "execution_count": null,
   "id": "690bd38a",
   "metadata": {},
   "outputs": [],
   "source": [
    "fuel_location['Time stamp'] = pd.to_datetime(fuel_location['Time stamp'])"
   ]
  },
  {
   "cell_type": "markdown",
   "id": "221faf9d",
   "metadata": {},
   "source": [
    "#### Average Fuel Level by Day of Week"
   ]
  },
  {
   "cell_type": "code",
   "execution_count": null,
   "id": "07d76245",
   "metadata": {},
   "outputs": [],
   "source": [
    "fuel_location['Day of Week'] = fuel_location['Time stamp'].dt.dayofweek # add column 'Day of Week' with value day-of-week from 'Time stamp'\n",
    "average_weekday_fuel = fuel_location.groupby(['Tank Location', 'Day of Week'])['Fuel Level'].mean().reset_index() # calculate average fuel level\n",
    "for loc_id in average_weekday_fuel['Tank Location'].unique():\n",
    "    loc_data = average_weekday_fuel[average_weekday_fuel['Tank Location'] == loc_id] # get each location average data by day of week\n",
    "    # plot each location's average fuel level by day of week\n",
    "    plt.plot(loc_data['Day of Week'], loc_data['Fuel Level'], marker='o', linestyle='-', label=loc_id)\n",
    "weekday_labels = ['Mon', 'Tue', 'Wed', 'Thu', 'Fri', 'Sat', 'Sun'] # transform numeric label into literal day-of-week\n",
    "plt.xticks(ticks=range(0, 7), labels=weekday_labels)\n",
    "plt.xlabel('Day of the Week')\n",
    "plt.ylabel('Average Fuel Level')\n",
    "plt.title('Average Fuel Level by Day of Week for Each Location')\n",
    "plt.legend(title='Location', bbox_to_anchor=(1.05, 1), loc='upper left')\n",
    "plt.grid(True, which='both', linestyle='--', linewidth=0.5)"
   ]
  },
  {
   "cell_type": "markdown",
   "id": "b7899817",
   "metadata": {},
   "source": [
    "#### Tank's Fuel Level Fluctuation"
   ]
  },
  {
   "cell_type": "markdown",
   "id": "76965749",
   "metadata": {},
   "source": [
    "Grouped by **`Tank ID`** and with **`Time stamp`** sorted in ascending order, the difference in **`Fuel Level`** between each record and the previous one is the **`Fuel Level Change`** for each record. We determined the **`Fuel Level change`** for each tank."
   ]
  },
  {
   "cell_type": "markdown",
   "id": "b74d0fbb",
   "metadata": {},
   "source": [
    "##### Location 1"
   ]
  },
  {
   "cell_type": "code",
   "execution_count": null,
   "id": "ba79673a",
   "metadata": {},
   "outputs": [],
   "source": [
    "fuel_Tank10 = fuel_location[fuel_location['Tank ID']=='T 10'] # get tank10 data\n",
    "fuel_Tank10.sort_values(by=['Time stamp'], inplace=True) # sort by 'Time stamp' ascendingly\n",
    "fuel_Tank10['Fuel Level Change'] = fuel_Tank10['Fuel Level'].diff() # calculate diffenrence\n",
    "fuel_Tank10 = fuel_Tank10[fuel_Tank10['Fuel Level Change']!=0] # drop no fuel level change records\n",
    "# plot tank's fuel level fluctuation\n",
    "plt.plot(fuel_Tank10['Time stamp'], fuel_Tank10['Fuel Level'], label='Fuel Level')\n",
    "plt.title(f'Fuel Level for Tank 10')\n",
    "plt.xlabel('Time')\n",
    "plt.ylabel('Fuel Level')"
   ]
  },
  {
   "cell_type": "code",
   "execution_count": null,
   "id": "cd340455",
   "metadata": {},
   "outputs": [],
   "source": [
    "fuel_Tank11 = fuel_location[fuel_location['Tank ID']=='T 11'] # get tank11 data\n",
    "fuel_Tank11.sort_values(by=['Time stamp'], inplace=True) # sort by 'Time stamp' ascendingly\n",
    "fuel_Tank11['Fuel Level Change'] = fuel_Tank11['Fuel Level'].diff() # calculate diffenrence\n",
    "fuel_Tank11 = fuel_Tank11[fuel_Tank11['Fuel Level Change']!=0] # drop no fuel level change records\n",
    "# plot tank's fuel level fluctuation\n",
    "plt.plot(fuel_Tank11['Time stamp'], fuel_Tank11['Fuel Level'], label='Fuel Level')\n",
    "plt.title(f'Fuel Level for Tank 11')\n",
    "plt.xlabel('Time')\n",
    "plt.ylabel('Fuel Level')"
   ]
  },
  {
   "cell_type": "code",
   "execution_count": null,
   "id": "8014b92e",
   "metadata": {},
   "outputs": [],
   "source": [
    "fuel_Tank12 = fuel_location[fuel_location['Tank ID']=='T 12'] # get tank12 data\n",
    "fuel_Tank12.sort_values(by=['Time stamp'], inplace=True) # sort by 'Time stamp' ascendingly\n",
    "fuel_Tank12['Fuel Level Change'] = fuel_Tank12['Fuel Level'].diff() # calculate diffenrence\n",
    "fuel_Tank12 = fuel_Tank12[fuel_Tank12['Fuel Level Change']!=0] # drop no fuel level change records\n",
    "# plot tank's fuel level fluctuation\n",
    "plt.plot(fuel_Tank12['Time stamp'], fuel_Tank12['Fuel Level'], label='Fuel Level')\n",
    "plt.title(f'Fuel Level for Tank 12')\n",
    "plt.xlabel('Time')\n",
    "plt.ylabel('Fuel Level')"
   ]
  },
  {
   "cell_type": "code",
   "execution_count": null,
   "id": "6f6c8a3d",
   "metadata": {},
   "outputs": [],
   "source": [
    "fuel_Tank13 = fuel_location[fuel_location['Tank ID']=='T 13'] # get tank13 data\n",
    "fuel_Tank13.sort_values(by=['Time stamp'], inplace=True) # sort by 'Time stamp' ascendingly\n",
    "fuel_Tank13['Fuel Level Change'] = fuel_Tank13['Fuel Level'].diff() # calculate diffenrence\n",
    "fuel_Tank13 = fuel_Tank13[fuel_Tank13['Fuel Level Change']!=0] # drop no fuel level change records\n",
    "# plot tank's fuel level fluctuation\n",
    "plt.plot(fuel_Tank13['Time stamp'], fuel_Tank13['Fuel Level'], label='Fuel Level')\n",
    "plt.title(f'Fuel Level for Tank 13')\n",
    "plt.xlabel('Time')\n",
    "plt.ylabel('Fuel Level')"
   ]
  },
  {
   "cell_type": "code",
   "execution_count": null,
   "id": "4264437a",
   "metadata": {},
   "outputs": [],
   "source": [
    "fuel_Tank14 = fuel_location[fuel_location['Tank ID']=='T 14'] # get tank14 data\n",
    "fuel_Tank14.sort_values(by=['Time stamp'], inplace=True) # sort by 'Time stamp' ascendingly\n",
    "fuel_Tank14['Fuel Level Change'] = fuel_Tank14['Fuel Level'].diff() # calculate diffenrence\n",
    "fuel_Tank14 = fuel_Tank14[fuel_Tank14['Fuel Level Change']!=0] # drop no fuel level change records\n",
    "# plot tank's fuel level fluctuation\n",
    "plt.plot(fuel_Tank14['Time stamp'], fuel_Tank14['Fuel Level'], label='Fuel Level')\n",
    "plt.title(f'Fuel Level for Tank 14')\n",
    "plt.xlabel('Time')\n",
    "plt.ylabel('Fuel Level')"
   ]
  },
  {
   "cell_type": "code",
   "execution_count": null,
   "id": "e472df4e",
   "metadata": {},
   "outputs": [],
   "source": [
    "fuel_Tank15 = fuel_location[fuel_location['Tank ID']=='T 15'] # get tank15 data\n",
    "fuel_Tank15.sort_values(by=['Time stamp'], inplace=True) # sort by 'Time stamp' ascendingly\n",
    "fuel_Tank15['Fuel Level Change'] = fuel_Tank15['Fuel Level'].diff() # calculate diffenrence\n",
    "fuel_Tank15 = fuel_Tank15[fuel_Tank15['Fuel Level Change']!=0] # drop no fuel level change records\n",
    "# plot tank's fuel level fluctuation\n",
    "plt.plot(fuel_Tank15['Time stamp'], fuel_Tank15['Fuel Level'], label='Fuel Level')\n",
    "plt.title(f'Fuel Level for Tank 15')\n",
    "plt.xlabel('Time')\n",
    "plt.ylabel('Fuel Level')"
   ]
  },
  {
   "cell_type": "markdown",
   "id": "99dbc7fb",
   "metadata": {},
   "source": [
    "By examining the charts for **Tank 10** and **Tank 13**, we can see that the two are complementary, suggesting that they are the **same tank** but with different names. Tank 13's type is **P**, and Tank 10's type is **U**. P and U will be considered as **G** when order. Therefore, we considered to combine them together."
   ]
  },
  {
   "cell_type": "markdown",
   "id": "c4a2d43c",
   "metadata": {},
   "source": [
    "Since we dropped records with 0 `Fuel Level Change` to draw the plot before, we need the original records from **`fuel_location`** to keep the data consistence."
   ]
  },
  {
   "cell_type": "markdown",
   "id": "77463359",
   "metadata": {},
   "source": [
    "We merged the fuel level records of Tank 10 and Tank 13 into **`fuel_Tank10_Tank13`**. After sorting by Time stamp in ascendingly, we calculated the `Time Stamp Change` with the previous record. If the `Time Stamp Change` is less than 1 minute and the records come from different Tanks, we combine this two records into one by adding their `Fuel Level` values together, and change the `Tank Type` to 'G'. The `Tank ID` remains unchanged to indicate whether the change occurred in Tank 10 or Tank 13."
   ]
  },
  {
   "cell_type": "code",
   "execution_count": null,
   "id": "46f57b7d-3721-4cda-80bd-781657071476",
   "metadata": {},
   "outputs": [],
   "source": [
    "# Concatenate records for Tanks 10 and 13\n",
    "fuel_Tank10_2 = fuel_location[fuel_location['Tank ID'] == 'T 10'].copy()\n",
    "fuel_Tank13_2 = fuel_location[fuel_location['Tank ID'] == 'T 13'].copy()\n",
    "fuel_Tank10_Tank13 = pd.concat([fuel_Tank10_2, fuel_Tank13_2])\n",
    "\n",
    "# Sort by 'Time stamp', calculate 'Fuel Level Change' and 'Time Stamp Change', and reset the index\n",
    "fuel_Tank10_Tank13.sort_values(by=['Time stamp'], inplace=True)\n",
    "fuel_Tank10_Tank13['Fuel Level Change'] = fuel_Tank10_Tank13['Fuel Level'].diff()\n",
    "fuel_Tank10_Tank13['Time Stamp Change'] = fuel_Tank10_Tank13['Time stamp'].diff()\n",
    "fuel_Tank10_Tank13.reset_index(drop=True, inplace=True)\n",
    "\n",
    "# Set the drop threshold as 1 minute\n",
    "time_threshold = pd.Timedelta('00:01:00')\n",
    "\n",
    "# Identify rows to drop based on time threshold and tank ID change\n",
    "mask = (fuel_Tank10_Tank13['Time Stamp Change'] <= time_threshold) & \\\n",
    "       (fuel_Tank10_Tank13['Tank ID'] != fuel_Tank10_Tank13['Tank ID'].shift())\n",
    "\n",
    "# Update 'Fuel Level' and 'Tank Type' for the previous rows\n",
    "fuel_Tank10_Tank13.loc[mask.shift(-1).fillna(False), 'Fuel Level'] += fuel_Tank10_Tank13.loc[mask, 'Fuel Level'].values\n",
    "fuel_Tank10_Tank13.loc[mask.shift(-1).fillna(False), 'Tank Type'] = 'G'\n",
    "\n",
    "# Drop the identified rows and recalculate 'Fuel Level Change'\n",
    "fuel_Tank10_Tank13 = fuel_Tank10_Tank13[~mask]\n",
    "fuel_Tank10_Tank13.reset_index(drop=True, inplace=True)\n",
    "fuel_Tank10_Tank13['Fuel Level Change'] = fuel_Tank10_Tank13['Fuel Level'].diff()\n",
    "\n",
    "# Drop rows with no fuel level change\n",
    "fuel_Tank10_Tank13 = fuel_Tank10_Tank13[fuel_Tank10_Tank13['Fuel Level Change'] != 0]\n",
    "\n",
    "fuel_Tank10_Tank13"
   ]
  },
  {
   "cell_type": "code",
   "execution_count": null,
   "id": "0e3857aa",
   "metadata": {},
   "outputs": [],
   "source": [
    "len(fuel_Tank10_Tank13[fuel_Tank10_Tank13['Fuel Level']>40000])/len(fuel_Tank10_Tank13)"
   ]
  },
  {
   "cell_type": "markdown",
   "id": "bbbedd22",
   "metadata": {},
   "source": [
    "There are 3.28% records' `Fuel Level` exceeds the capacity."
   ]
  },
  {
   "cell_type": "code",
   "execution_count": null,
   "id": "2f51083c",
   "metadata": {},
   "outputs": [],
   "source": [
    "fuel_Tank10_Tank13[fuel_Tank10_Tank13['Fuel Level']>40000]['Fuel Level'].describe()"
   ]
  },
  {
   "cell_type": "markdown",
   "id": "af26a596",
   "metadata": {},
   "source": [
    "By checking the describe, most of exceeding capacity records do not exceed 41000. Therefore, we removed these records within the margin of error."
   ]
  },
  {
   "cell_type": "code",
   "execution_count": null,
   "id": "6584e634",
   "metadata": {},
   "outputs": [],
   "source": [
    "fuel_Tank10_Tank13 = fuel_Tank10_Tank13[fuel_Tank10_Tank13['Fuel Level']<=40000]"
   ]
  },
  {
   "cell_type": "markdown",
   "id": "bb165584",
   "metadata": {},
   "source": [
    "New plot combining Tank 10 and Tank 13 records."
   ]
  },
  {
   "cell_type": "code",
   "execution_count": null,
   "id": "4293a4a6",
   "metadata": {},
   "outputs": [],
   "source": [
    "plt.plot(fuel_Tank10_Tank13['Time stamp'], fuel_Tank10_Tank13['Fuel Level'], label='Fuel Level')\n",
    "plt.title(f'Fuel Level for Tank 10 and Tank 13')\n",
    "plt.xlabel('Time')\n",
    "plt.ylabel('Fuel Level')"
   ]
  },
  {
   "cell_type": "markdown",
   "id": "dba727e9",
   "metadata": {},
   "source": [
    "##### Location 2"
   ]
  },
  {
   "cell_type": "code",
   "execution_count": null,
   "id": "8966b2e1",
   "metadata": {},
   "outputs": [],
   "source": [
    "fuel_Tank16 = fuel_location[fuel_location['Tank ID']=='T 16'] # get tank16 data\n",
    "fuel_Tank16.sort_values(by=['Time stamp'], inplace=True) # sort by 'Time stamp' ascendingly\n",
    "fuel_Tank16['Fuel Level Change'] = fuel_Tank16['Fuel Level'].diff() # calculate diffenrence\n",
    "fuel_Tank16 = fuel_Tank16[fuel_Tank16['Fuel Level Change']!=0] # drop no fuel level change records\n",
    "# plot tank's fuel level fluctuation\n",
    "plt.plot(fuel_Tank16['Time stamp'], fuel_Tank16['Fuel Level'], label='Fuel Level')\n",
    "plt.title(f'Fuel Level for Tank 16')\n",
    "plt.xlabel('Time')\n",
    "plt.ylabel('Fuel Level')"
   ]
  },
  {
   "cell_type": "code",
   "execution_count": null,
   "id": "c7bad0f3",
   "metadata": {},
   "outputs": [],
   "source": [
    "fuel_Tank17 = fuel_location[fuel_location['Tank ID']=='T 17'] # get tank17 data\n",
    "fuel_Tank17.sort_values(by=['Time stamp'], inplace=True) # sort by 'Time stamp' ascendingly\n",
    "fuel_Tank17['Fuel Level Change'] = fuel_Tank17['Fuel Level'].diff() # calculate diffenrence\n",
    "fuel_Tank17 = fuel_Tank17[fuel_Tank17['Fuel Level Change']!=0] # drop no fuel level change records\n",
    "# plot tank's fuel level fluctuation\n",
    "plt.plot(fuel_Tank17['Time stamp'], fuel_Tank17['Fuel Level'], label='Fuel Level')\n",
    "plt.title(f'Fuel Level for Tank 17')\n",
    "plt.xlabel('Time')\n",
    "plt.ylabel('Fuel Level')"
   ]
  },
  {
   "cell_type": "code",
   "execution_count": null,
   "id": "19ac20dc",
   "metadata": {},
   "outputs": [],
   "source": [
    "fuel_Tank18 = fuel_location[fuel_location['Tank ID']=='T 18'] # get tank18 data\n",
    "fuel_Tank18.sort_values(by=['Time stamp'], inplace=True) # sort by 'Time stamp' ascendingly\n",
    "fuel_Tank18['Fuel Level Change'] = fuel_Tank18['Fuel Level'].diff() # calculate diffenrence\n",
    "fuel_Tank18 = fuel_Tank18[fuel_Tank18['Fuel Level Change']!=0] # drop no fuel level change records\n",
    "# plot tank's fuel level fluctuation\n",
    "plt.plot(fuel_Tank18['Time stamp'], fuel_Tank18['Fuel Level'], label='Fuel Level')\n",
    "plt.title(f'Fuel Level for Tank 18')\n",
    "plt.xlabel('Time')\n",
    "plt.ylabel('Fuel Level')"
   ]
  },
  {
   "cell_type": "code",
   "execution_count": null,
   "id": "6f47f76c",
   "metadata": {},
   "outputs": [],
   "source": [
    "fuel_Tank19 = fuel_location[fuel_location['Tank ID']=='T 19'] # get tank19 data\n",
    "fuel_Tank19.sort_values(by=['Time stamp'], inplace=True) # sort by 'Time stamp' ascendingly\n",
    "fuel_Tank19['Fuel Level Change'] = fuel_Tank19['Fuel Level'].diff() # calculate diffenrence\n",
    "fuel_Tank19 = fuel_Tank19[fuel_Tank19['Fuel Level Change']!=0] # drop no fuel level change records\n",
    "# plot tank's fuel level fluctuation\n",
    "plt.plot(fuel_Tank19['Time stamp'], fuel_Tank19['Fuel Level'], label='Fuel Level')\n",
    "plt.title(f'Fuel Level for Tank 19')\n",
    "plt.xlabel('Time')\n",
    "plt.ylabel('Fuel Level')"
   ]
  },
  {
   "cell_type": "markdown",
   "id": "9141fe21",
   "metadata": {},
   "source": [
    "##### Location 3"
   ]
  },
  {
   "cell_type": "code",
   "execution_count": null,
   "id": "c74c7a39",
   "metadata": {},
   "outputs": [],
   "source": [
    "fuel_Tank20 = fuel_location[fuel_location['Tank ID']=='T 20'] # get tank20 data\n",
    "fuel_Tank20.sort_values(by=['Time stamp'], inplace=True) # sort by 'Time stamp' ascendingly\n",
    "fuel_Tank20['Fuel Level Change'] = fuel_Tank20['Fuel Level'].diff() # calculate diffenrence\n",
    "fuel_Tank20 = fuel_Tank20[fuel_Tank20['Fuel Level Change']!=0] # drop no fuel level change records\n",
    "# plot tank's fuel level fluctuation\n",
    "plt.plot(fuel_Tank20['Time stamp'], fuel_Tank20['Fuel Level'], label='Fuel Level')\n",
    "plt.title(f'Fuel Level for Tank 20')\n",
    "plt.xlabel('Time')\n",
    "plt.ylabel('Fuel Level')"
   ]
  },
  {
   "cell_type": "code",
   "execution_count": null,
   "id": "6c7d4fef",
   "metadata": {},
   "outputs": [],
   "source": [
    "fuel_Tank21 = fuel_location[fuel_location['Tank ID']=='T 21'] # get tank21 data\n",
    "fuel_Tank21.sort_values(by=['Time stamp'], inplace=True) # sort by 'Time stamp' ascendingly\n",
    "fuel_Tank21['Fuel Level Change'] = fuel_Tank21['Fuel Level'].diff() # calculate diffenrence\n",
    "fuel_Tank21 = fuel_Tank21[fuel_Tank21['Fuel Level Change']!=0] # drop no fuel level change records\n",
    "# plot tank's fuel level fluctuation\n",
    "plt.plot(fuel_Tank21['Time stamp'], fuel_Tank21['Fuel Level'], label='Fuel Level')\n",
    "plt.title(f'Fuel Level for Tank 21')\n",
    "plt.xlabel('Time')\n",
    "plt.ylabel('Fuel Level')"
   ]
  },
  {
   "cell_type": "markdown",
   "id": "d1e982c2",
   "metadata": {},
   "source": [
    "##### Location 4"
   ]
  },
  {
   "cell_type": "code",
   "execution_count": null,
   "id": "d0910d2f",
   "metadata": {},
   "outputs": [],
   "source": [
    "fuel_Tank22 = fuel_location[fuel_location['Tank ID']=='T 22'] # get tank22 data\n",
    "fuel_Tank22.sort_values(by=['Time stamp'], inplace=True) # sort by 'Time stamp' ascendingly\n",
    "fuel_Tank22['Fuel Level Change'] = fuel_Tank22['Fuel Level'].diff() # calculate diffenrence\n",
    "fuel_Tank22 = fuel_Tank22[fuel_Tank22['Fuel Level Change']!=0] # drop no fuel level change records\n",
    "# plot tank's fuel level fluctuation\n",
    "plt.plot(fuel_Tank22['Time stamp'], fuel_Tank22['Fuel Level'], label='Fuel Level')\n",
    "plt.title(f'Fuel Level for Tank 22')\n",
    "plt.xlabel('Time')\n",
    "plt.ylabel('Fuel Level')"
   ]
  },
  {
   "cell_type": "code",
   "execution_count": null,
   "id": "736110ef",
   "metadata": {},
   "outputs": [],
   "source": [
    "fuel_Tank23 = fuel_location[fuel_location['Tank ID']=='T 23'] # get tank23 data\n",
    "fuel_Tank23.sort_values(by=['Time stamp'], inplace=True) # sort by 'Time stamp' ascendingly\n",
    "fuel_Tank23['Fuel Level Change'] = fuel_Tank23['Fuel Level'].diff() # calculate diffenrence\n",
    "fuel_Tank23 = fuel_Tank23[fuel_Tank23['Fuel Level Change']!=0] # drop no fuel level change records\n",
    "# plot tank's fuel level fluctuation\n",
    "plt.plot(fuel_Tank23['Time stamp'], fuel_Tank23['Fuel Level'], label='Fuel Level')\n",
    "plt.title(f'Fuel Level for Tank 23')\n",
    "plt.xlabel('Time')\n",
    "plt.ylabel('Fuel Level')"
   ]
  },
  {
   "cell_type": "markdown",
   "id": "f0ff993c",
   "metadata": {},
   "source": [
    "##### Location 5"
   ]
  },
  {
   "cell_type": "code",
   "execution_count": null,
   "id": "e2428ea6",
   "metadata": {},
   "outputs": [],
   "source": [
    "fuel_Tank24 = fuel_location[fuel_location['Tank ID']=='T 24'] # get tank24 data\n",
    "fuel_Tank24.sort_values(by=['Time stamp'], inplace=True) # sort by 'Time stamp' ascendingly\n",
    "fuel_Tank24['Fuel Level Change'] = fuel_Tank24['Fuel Level'].diff() # calculate diffenrence\n",
    "fuel_Tank24 = fuel_Tank24[fuel_Tank24['Fuel Level Change']!=0] # drop no fuel level change records\n",
    "# plot tank's fuel level fluctuation\n",
    "plt.plot(fuel_Tank24['Time stamp'], fuel_Tank24['Fuel Level'], label='Fuel Level')\n",
    "plt.title(f'Fuel Level for Tank 24')\n",
    "plt.xlabel('Time')\n",
    "plt.ylabel('Fuel Level')"
   ]
  },
  {
   "cell_type": "code",
   "execution_count": null,
   "id": "2b760098",
   "metadata": {},
   "outputs": [],
   "source": [
    "fuel_Tank25 = fuel_location[fuel_location['Tank ID']=='T 25'] # get tank25 data\n",
    "fuel_Tank25.sort_values(by=['Time stamp'], inplace=True) # sort by 'Time stamp' ascendingly\n",
    "fuel_Tank25['Fuel Level Change'] = fuel_Tank25['Fuel Level'].diff() # calculate diffenrence\n",
    "fuel_Tank25 = fuel_Tank25[fuel_Tank25['Fuel Level Change']!=0] # drop no fuel level change records\n",
    "# plot tank's fuel level fluctuation\n",
    "plt.plot(fuel_Tank25['Time stamp'], fuel_Tank25['Fuel Level'], label='Fuel Level')\n",
    "plt.title(f'Fuel Level for Tank 25')\n",
    "plt.xlabel('Time')\n",
    "plt.ylabel('Fuel Level')"
   ]
  },
  {
   "cell_type": "markdown",
   "id": "af5bf44c",
   "metadata": {},
   "source": [
    "##### Location 6"
   ]
  },
  {
   "cell_type": "code",
   "execution_count": null,
   "id": "d41648d4",
   "metadata": {},
   "outputs": [],
   "source": [
    "fuel_Tank26 = fuel_location[fuel_location['Tank ID']=='T 26'] # get tank26 data\n",
    "fuel_Tank26.sort_values(by=['Time stamp'], inplace=True) # sort by 'Time stamp' ascendingly\n",
    "fuel_Tank26['Fuel Level Change'] = fuel_Tank26['Fuel Level'].diff() # calculate diffenrence\n",
    "fuel_Tank26 = fuel_Tank26[fuel_Tank26['Fuel Level Change']!=0] # drop no fuel level change records\n",
    "# plot tank's fuel level fluctuation\n",
    "plt.plot(fuel_Tank26['Time stamp'], fuel_Tank26['Fuel Level'], label='Fuel Level')\n",
    "plt.title(f'Fuel Level for Tank 26')\n",
    "plt.xlabel('Time')\n",
    "plt.ylabel('Fuel Level')"
   ]
  },
  {
   "cell_type": "code",
   "execution_count": null,
   "id": "a4d2d6e7",
   "metadata": {},
   "outputs": [],
   "source": [
    "fuel_Tank27 = fuel_location[fuel_location['Tank ID']=='T 27'] # get tank27 data\n",
    "fuel_Tank27.sort_values(by=['Time stamp'], inplace=True) # sort by 'Time stamp' ascendingly\n",
    "fuel_Tank27['Fuel Level Change'] = fuel_Tank27['Fuel Level'].diff() # calculate diffenrence\n",
    "fuel_Tank27 = fuel_Tank27[fuel_Tank27['Fuel Level Change']!=0] # drop no fuel level change records\n",
    "# plot tank's fuel level fluctuation\n",
    "plt.plot(fuel_Tank27['Time stamp'], fuel_Tank27['Fuel Level'], label='Fuel Level')\n",
    "plt.title(f'Fuel Level for Tank 27')\n",
    "plt.xlabel('Time')\n",
    "plt.ylabel('Fuel Level')"
   ]
  },
  {
   "cell_type": "code",
   "execution_count": null,
   "id": "5a058363",
   "metadata": {},
   "outputs": [],
   "source": [
    "fuel_Tank28 = fuel_location[fuel_location['Tank ID']=='T 28'] # get tank28 data\n",
    "fuel_Tank28.sort_values(by=['Time stamp'], inplace=True) # sort by 'Time stamp' ascendingly\n",
    "fuel_Tank28['Fuel Level Change'] = fuel_Tank28['Fuel Level'].diff() # calculate diffenrence\n",
    "fuel_Tank28 = fuel_Tank28[fuel_Tank28['Fuel Level Change']!=0] # drop no fuel level change records\n",
    "# plot tank's fuel level fluctuation\n",
    "plt.plot(fuel_Tank28['Time stamp'], fuel_Tank28['Fuel Level'], label='Fuel Level')\n",
    "plt.title(f'Fuel Level for Tank 28')\n",
    "plt.xlabel('Time')\n",
    "plt.ylabel('Fuel Level')"
   ]
  },
  {
   "cell_type": "markdown",
   "id": "db0f38f8",
   "metadata": {},
   "source": [
    "##### Location 7"
   ]
  },
  {
   "cell_type": "code",
   "execution_count": null,
   "id": "7e0b093d",
   "metadata": {},
   "outputs": [],
   "source": [
    "fuel_Tank29 = fuel_location[fuel_location['Tank ID']=='T 29'] # get tank29 data\n",
    "fuel_Tank29.sort_values(by=['Time stamp'], inplace=True) # sort by 'Time stamp' ascendingly\n",
    "fuel_Tank29['Fuel Level Change'] = fuel_Tank29['Fuel Level'].diff() # calculate diffenrence\n",
    "fuel_Tank29 = fuel_Tank29[fuel_Tank29['Fuel Level Change']!=0] # drop no fuel level change records\n",
    "# plot tank's fuel level fluctuation\n",
    "plt.plot(fuel_Tank29['Time stamp'], fuel_Tank29['Fuel Level'], label='Fuel Level')\n",
    "plt.title(f'Fuel Level for Tank 29')\n",
    "plt.xlabel('Time')\n",
    "plt.ylabel('Fuel Level')"
   ]
  },
  {
   "cell_type": "code",
   "execution_count": null,
   "id": "2a84831a",
   "metadata": {},
   "outputs": [],
   "source": [
    "fuel_Tank30 = fuel_location[fuel_location['Tank ID']=='T 30'] # get tank30 data\n",
    "fuel_Tank30.sort_values(by=['Time stamp'], inplace=True) # sort by 'Time stamp' ascendingly\n",
    "fuel_Tank30['Fuel Level Change'] = fuel_Tank30['Fuel Level'].diff() # calculate diffenrence\n",
    "fuel_Tank30 = fuel_Tank30[fuel_Tank30['Fuel Level Change']!=0] # drop no fuel level change records\n",
    "# plot tank's fuel level fluctuation\n",
    "plt.plot(fuel_Tank30['Time stamp'], fuel_Tank30['Fuel Level'], label='Fuel Level')\n",
    "plt.title(f'Fuel Level for Tank 30')\n",
    "plt.xlabel('Time')\n",
    "plt.ylabel('Fuel Level')"
   ]
  },
  {
   "cell_type": "markdown",
   "id": "00cd4e42",
   "metadata": {},
   "source": [
    "##### Location 8"
   ]
  },
  {
   "cell_type": "code",
   "execution_count": null,
   "id": "fa0eae2b",
   "metadata": {},
   "outputs": [],
   "source": [
    "fuel_Tank31 = fuel_location[fuel_location['Tank ID']=='T 31'] # get tank31 data\n",
    "fuel_Tank31.sort_values(by=['Time stamp'], inplace=True) # sort by 'Time stamp' ascendingly\n",
    "fuel_Tank31['Fuel Level Change'] = fuel_Tank31['Fuel Level'].diff() # calculate diffenrence\n",
    "fuel_Tank31 = fuel_Tank31[fuel_Tank31['Fuel Level Change']!=0] # drop no fuel level change records\n",
    "# plot tank's fuel level fluctuation\n",
    "plt.plot(fuel_Tank31['Time stamp'], fuel_Tank31['Fuel Level'], label='Fuel Level')\n",
    "plt.title(f'Fuel Level for Tank 31')\n",
    "plt.xlabel('Time')\n",
    "plt.ylabel('Fuel Level')"
   ]
  },
  {
   "cell_type": "code",
   "execution_count": null,
   "id": "fc39edba",
   "metadata": {},
   "outputs": [],
   "source": [
    "fuel_Tank32 = fuel_location[fuel_location['Tank ID']=='T 32'] # get tank32 data\n",
    "fuel_Tank32.sort_values(by=['Time stamp'], inplace=True) # sort by 'Time stamp' ascendingly\n",
    "fuel_Tank32['Fuel Level Change'] = fuel_Tank32['Fuel Level'].diff() # calculate diffenrence\n",
    "fuel_Tank32 = fuel_Tank32[fuel_Tank32['Fuel Level Change']!=0] # drop no fuel level change records\n",
    "# plot tank's fuel level fluctuation\n",
    "plt.plot(fuel_Tank32['Time stamp'], fuel_Tank32['Fuel Level'], label='Fuel Level')\n",
    "plt.title(f'Fuel Level for Tank 30')\n",
    "plt.xlabel('Time')\n",
    "plt.ylabel('Fuel Level')"
   ]
  },
  {
   "cell_type": "markdown",
   "id": "c7c23327",
   "metadata": {},
   "source": [
    "### Fuel Consume"
   ]
  },
  {
   "cell_type": "markdown",
   "id": "a1d849c2",
   "metadata": {},
   "source": [
    "Each location's fuel consume can be obtained by **`fuel_Tank*`** where the `Fuel Level Change`<0."
   ]
  },
  {
   "cell_type": "markdown",
   "id": "5817ca1b",
   "metadata": {},
   "source": [
    "We created **`fuel_consume_loc*`** for further analysis."
   ]
  },
  {
   "cell_type": "markdown",
   "id": "d529e3db",
   "metadata": {},
   "source": [
    "#### Location 1"
   ]
  },
  {
   "cell_type": "code",
   "execution_count": null,
   "id": "01777b8b",
   "metadata": {},
   "outputs": [],
   "source": [
    "fuel_consume_loc1 = pd.concat([fuel_Tank10[fuel_Tank10['Fuel Level Change']<0],\n",
    "                               fuel_Tank11[fuel_Tank11['Fuel Level Change']<0],\n",
    "                               fuel_Tank12[fuel_Tank12['Fuel Level Change']<0],\n",
    "                               fuel_Tank13[fuel_Tank13['Fuel Level Change']<0],\n",
    "                               fuel_Tank14[fuel_Tank14['Fuel Level Change']<0],\n",
    "                               fuel_Tank15[fuel_Tank15['Fuel Level Change']<0]],ignore_index=True)\n",
    "fuel_consume_loc1"
   ]
  },
  {
   "cell_type": "markdown",
   "id": "1b098c26",
   "metadata": {},
   "source": [
    "#### Location 2"
   ]
  },
  {
   "cell_type": "code",
   "execution_count": null,
   "id": "d5c696c4",
   "metadata": {},
   "outputs": [],
   "source": [
    "fuel_consume_loc2 = pd.concat([fuel_Tank16[fuel_Tank16['Fuel Level Change']<0],\n",
    "                               fuel_Tank17[fuel_Tank17['Fuel Level Change']<0],\n",
    "                               fuel_Tank18[fuel_Tank18['Fuel Level Change']<0],\n",
    "                               fuel_Tank19[fuel_Tank19['Fuel Level Change']<0]],ignore_index=True)\n",
    "fuel_consume_loc2"
   ]
  },
  {
   "cell_type": "markdown",
   "id": "54d5e19e",
   "metadata": {},
   "source": [
    "#### Location 3"
   ]
  },
  {
   "cell_type": "code",
   "execution_count": null,
   "id": "5b99c18d",
   "metadata": {},
   "outputs": [],
   "source": [
    "fuel_consume_loc3 = pd.concat([fuel_Tank20[fuel_Tank20['Fuel Level Change']<0],\n",
    "                               fuel_Tank21[fuel_Tank21['Fuel Level Change']<0]],ignore_index=True)\n",
    "fuel_consume_loc3"
   ]
  },
  {
   "cell_type": "markdown",
   "id": "55c10185",
   "metadata": {},
   "source": [
    "#### Location 4"
   ]
  },
  {
   "cell_type": "code",
   "execution_count": null,
   "id": "902c00ae",
   "metadata": {},
   "outputs": [],
   "source": [
    "fuel_consume_loc4 = pd.concat([fuel_Tank22[fuel_Tank22['Fuel Level Change']<0],\n",
    "                               fuel_Tank23[fuel_Tank23['Fuel Level Change']<0]],ignore_index=True)\n",
    "fuel_consume_loc4"
   ]
  },
  {
   "cell_type": "markdown",
   "id": "27e5f75c",
   "metadata": {},
   "source": [
    "#### Location 5"
   ]
  },
  {
   "cell_type": "code",
   "execution_count": null,
   "id": "8ebb9bb4",
   "metadata": {},
   "outputs": [],
   "source": [
    "fuel_consume_loc5 = pd.concat([fuel_Tank24[fuel_Tank24['Fuel Level Change']<0],\n",
    "                               fuel_Tank25[fuel_Tank25['Fuel Level Change']<0]],ignore_index=True)\n",
    "fuel_consume_loc5"
   ]
  },
  {
   "cell_type": "markdown",
   "id": "7250976b",
   "metadata": {},
   "source": [
    "#### Location 6"
   ]
  },
  {
   "cell_type": "code",
   "execution_count": null,
   "id": "26240acf",
   "metadata": {},
   "outputs": [],
   "source": [
    "fuel_consume_loc6 = pd.concat([fuel_Tank26[fuel_Tank26['Fuel Level Change']<0],\n",
    "                               fuel_Tank27[fuel_Tank27['Fuel Level Change']<0],\n",
    "                               fuel_Tank28[fuel_Tank28['Fuel Level Change']<0]],ignore_index=True)\n",
    "fuel_consume_loc6"
   ]
  },
  {
   "cell_type": "markdown",
   "id": "c5620311",
   "metadata": {},
   "source": [
    "#### Location 7"
   ]
  },
  {
   "cell_type": "code",
   "execution_count": null,
   "id": "ff740d90",
   "metadata": {},
   "outputs": [],
   "source": [
    "fuel_consume_loc7 = pd.concat([fuel_Tank29[fuel_Tank29['Fuel Level Change']<0],\n",
    "                               fuel_Tank30[fuel_Tank30['Fuel Level Change']<0]],ignore_index=True)\n",
    "fuel_consume_loc7"
   ]
  },
  {
   "cell_type": "markdown",
   "id": "573ae315",
   "metadata": {},
   "source": [
    "#### Location 8"
   ]
  },
  {
   "cell_type": "code",
   "execution_count": null,
   "id": "96471bc2",
   "metadata": {},
   "outputs": [],
   "source": [
    "fuel_consume_loc8 = pd.concat([fuel_Tank31[fuel_Tank31['Fuel Level Change']<0],\n",
    "                               fuel_Tank32[fuel_Tank32['Fuel Level Change']<0]],ignore_index=True)\n",
    "fuel_consume_loc8"
   ]
  },
  {
   "cell_type": "markdown",
   "id": "7e71f317",
   "metadata": {},
   "source": [
    "### Fuel Order"
   ]
  },
  {
   "cell_type": "code",
   "execution_count": null,
   "id": "482ea924",
   "metadata": {},
   "outputs": [],
   "source": [
    "invoices['Amount Purchased'].describe()"
   ]
  },
  {
   "cell_type": "markdown",
   "id": "b980204e",
   "metadata": {},
   "source": [
    "#### Location 1"
   ]
  },
  {
   "cell_type": "code",
   "execution_count": null,
   "id": "0c22bc55",
   "metadata": {},
   "outputs": [],
   "source": [
    "fuel_Tank10_Tank13[fuel_Tank10_Tank13['Fuel Level Change']>0]"
   ]
  },
  {
   "cell_type": "code",
   "execution_count": null,
   "id": "fb99ef90",
   "metadata": {},
   "outputs": [],
   "source": [
    "fuel_Tank10_Tank13[fuel_Tank10_Tank13['Fuel Level Change']>0]['Fuel Level Change'].describe()"
   ]
  },
  {
   "cell_type": "code",
   "execution_count": null,
   "id": "2e481755",
   "metadata": {},
   "outputs": [],
   "source": [
    "pd.set_option('display.max_rows', None)\n",
    "print(fuel_Tank10_Tank13[fuel_Tank10_Tank13['Fuel Level Change']>0]['Fuel Level Change'].value_counts().sort_index())\n",
    "pd.set_option('display.max_rows', 60)"
   ]
  },
  {
   "cell_type": "code",
   "execution_count": null,
   "id": "f10326ad",
   "metadata": {},
   "outputs": [],
   "source": [
    "fuel_Tank10_Tank13"
   ]
  },
  {
   "cell_type": "code",
   "execution_count": null,
   "id": "28978974",
   "metadata": {},
   "outputs": [],
   "source": [
    "fuel_order_loc1 = pd.concat([fuel_Tank10[fuel_Tank10['Fuel Level Change']>0],\n",
    "                               fuel_Tank11[fuel_Tank11['Fuel Level Change']>0],\n",
    "                               fuel_Tank12[fuel_Tank12['Fuel Level Change']>0],\n",
    "                               fuel_Tank13[fuel_Tank13['Fuel Level Change']>0],\n",
    "                               fuel_Tank14[fuel_Tank14['Fuel Level Change']>0],\n",
    "                               fuel_Tank15[fuel_Tank15['Fuel Level Change']>0]],ignore_index=True)\n",
    "fuel_order_loc1"
   ]
  },
  {
   "cell_type": "code",
   "execution_count": null,
   "id": "1bda0911",
   "metadata": {},
   "outputs": [],
   "source": [
    "pd.set_option('display.max_rows', None)\n",
    "print(fuel_order_loc1[fuel_order_loc1['Fuel Level Change']>0]['Fuel Level Change'].value_counts().sort_index())\n",
    "pd.set_option('display.max_rows', 60)"
   ]
  },
  {
   "cell_type": "code",
   "execution_count": null,
   "id": "1fa685cf",
   "metadata": {},
   "outputs": [],
   "source": [
    "fuel_order_loc2 = pd.concat([fuel_Tank16[fuel_Tank16['Fuel Level Change']>0],\n",
    "                               fuel_Tank17[fuel_Tank17['Fuel Level Change']>0],\n",
    "                               fuel_Tank18[fuel_Tank18['Fuel Level Change']>0],\n",
    "                               fuel_Tank19[fuel_Tank19['Fuel Level Change']>0]],ignore_index=True)\n",
    "fuel_order_loc2"
   ]
  },
  {
   "cell_type": "code",
   "execution_count": null,
   "id": "870d43cc",
   "metadata": {},
   "outputs": [],
   "source": [
    "pd.set_option('display.max_rows', None)\n",
    "print(fuel_order_loc2[fuel_order_loc2['Fuel Level Change']>0]['Fuel Level Change'].value_counts().sort_index())\n",
    "pd.set_option('display.max_rows', 60)"
   ]
  },
  {
   "cell_type": "code",
   "execution_count": null,
   "id": "96ab5290",
   "metadata": {},
   "outputs": [],
   "source": [
    "fuel_order_loc3 = pd.concat([fuel_Tank20[fuel_Tank20['Fuel Level Change']>0],\n",
    "                               fuel_Tank21[fuel_Tank21['Fuel Level Change']>0]],ignore_index=True)\n",
    "fuel_order_loc3"
   ]
  },
  {
   "cell_type": "code",
   "execution_count": null,
   "id": "1616844a",
   "metadata": {},
   "outputs": [],
   "source": [
    "pd.set_option('display.max_rows', None)\n",
    "print(fuel_order_loc3[fuel_order_loc3['Fuel Level Change']>0]['Fuel Level Change'].value_counts().sort_index())\n",
    "pd.set_option('display.max_rows', 60)"
   ]
  },
  {
   "cell_type": "code",
   "execution_count": null,
   "id": "c8bc4284",
   "metadata": {},
   "outputs": [],
   "source": [
    "fuel_order_loc4 = pd.concat([fuel_Tank22[fuel_Tank22['Fuel Level Change']>0],\n",
    "                               fuel_Tank23[fuel_Tank23['Fuel Level Change']>0]],ignore_index=True)\n",
    "fuel_order_loc4"
   ]
  },
  {
   "cell_type": "code",
   "execution_count": null,
   "id": "9d53e721",
   "metadata": {},
   "outputs": [],
   "source": [
    "pd.set_option('display.max_rows', None)\n",
    "print(fuel_order_loc4[fuel_order_loc4['Fuel Level Change']>0]['Fuel Level Change'].value_counts().sort_index())\n",
    "pd.set_option('display.max_rows', 60)"
   ]
  },
  {
   "cell_type": "code",
   "execution_count": null,
   "id": "24f1a0e2",
   "metadata": {},
   "outputs": [],
   "source": [
    "fuel_order_loc5 = pd.concat([fuel_Tank24[fuel_Tank24['Fuel Level Change']>0],\n",
    "                               fuel_Tank25[fuel_Tank25['Fuel Level Change']>0]],ignore_index=True)\n",
    "fuel_order_loc5"
   ]
  },
  {
   "cell_type": "code",
   "execution_count": null,
   "id": "66b12410",
   "metadata": {},
   "outputs": [],
   "source": [
    "pd.set_option('display.max_rows', None)\n",
    "print(fuel_order_loc5[fuel_order_loc5['Fuel Level Change']>0]['Fuel Level Change'].value_counts().sort_index())\n",
    "pd.set_option('display.max_rows', 60)"
   ]
  },
  {
   "cell_type": "code",
   "execution_count": null,
   "id": "bdf6995c",
   "metadata": {},
   "outputs": [],
   "source": [
    "fuel_order_loc6 = pd.concat([fuel_Tank26[fuel_Tank26['Fuel Level Change']>0],\n",
    "                               fuel_Tank27[fuel_Tank27['Fuel Level Change']>0],\n",
    "                                fuel_Tank28[fuel_Tank28['Fuel Level Change']>0]],ignore_index=True)\n",
    "fuel_order_loc6"
   ]
  },
  {
   "cell_type": "code",
   "execution_count": null,
   "id": "6ca73392",
   "metadata": {},
   "outputs": [],
   "source": [
    "pd.set_option('display.max_rows', None)\n",
    "print(fuel_order_loc6[fuel_order_loc6['Fuel Level Change']>0]['Fuel Level Change'].value_counts().sort_index())\n",
    "pd.set_option('display.max_rows', 60)"
   ]
  },
  {
   "cell_type": "code",
   "execution_count": null,
   "id": "b0246304",
   "metadata": {},
   "outputs": [],
   "source": [
    "fuel_order_loc7 = pd.concat([fuel_Tank29[fuel_Tank29['Fuel Level Change']>0],\n",
    "                               fuel_Tank30[fuel_Tank30['Fuel Level Change']>0]],ignore_index=True)\n",
    "fuel_order_loc7"
   ]
  },
  {
   "cell_type": "code",
   "execution_count": null,
   "id": "76322d8e",
   "metadata": {},
   "outputs": [],
   "source": [
    "pd.set_option('display.max_rows', None)\n",
    "print(fuel_order_loc7[fuel_order_loc7['Fuel Level Change']>0]['Fuel Level Change'].value_counts().sort_index())\n",
    "pd.set_option('display.max_rows', 60)"
   ]
  },
  {
   "cell_type": "code",
   "execution_count": null,
   "id": "ac8730f2",
   "metadata": {},
   "outputs": [],
   "source": [
    "fuel_order_loc8 = pd.concat([fuel_Tank31[fuel_Tank31['Fuel Level Change']>0],\n",
    "                               fuel_Tank32[fuel_Tank32['Fuel Level Change']>0]],ignore_index=True)\n",
    "fuel_order_loc8"
   ]
  },
  {
   "cell_type": "code",
   "execution_count": null,
   "id": "a9055e19",
   "metadata": {},
   "outputs": [],
   "source": [
    "pd.set_option('display.max_rows', None)\n",
    "print(fuel_order_loc8[fuel_order_loc8['Fuel Level Change']>0]['Fuel Level Change'].value_counts().sort_index())\n",
    "pd.set_option('display.max_rows', 60)"
   ]
  },
  {
   "cell_type": "code",
   "execution_count": null,
   "id": "1e8aafed",
   "metadata": {},
   "outputs": [],
   "source": [
    "combined_fuel_tank = pd.merge(fuel, tanks[['Tank ID', 'Tank Location']], on='Tank ID')\n",
    "combined_fuel_tank"
   ]
  },
  {
   "cell_type": "code",
   "execution_count": null,
   "id": "6752d37f",
   "metadata": {},
   "outputs": [],
   "source": [
    "combined_fuel_tank['Time stamp'] = pd.to_datetime(combined_fuel_tank['Time stamp'])\n",
    "combined_fuel_tank['Date'] = combined_fuel_tank['Time stamp'].dt.date\n",
    "\n",
    "daily_consumption = combined_fuel_tank.groupby(['Tank Location', 'Date']).agg({'Fuel Level': ['max', 'min']})\n",
    "daily_consumption['Daily_Consumption'] = daily_consumption[('Fuel Level', 'max')] - daily_consumption[('Fuel Level', 'min')]\n",
    "daily_consumption = daily_consumption['Daily_Consumption'].groupby('Tank Location').mean()\n",
    "\n",
    "total_daily_consumption = daily_consumption.groupby('Tank Location').sum()\n",
    "\n",
    "total_tank_capacity = tanks.groupby('Tank Location')['Tank Capacity'].sum()  \n",
    "\n",
    "safety_stock = total_tank_capacity * 0.15 #Assuming safety stock is 15% of total capacity\n",
    "\n",
    "total_daily_consumption, total_tank_capacity, safety_stock"
   ]
  },
  {
   "cell_type": "markdown",
   "id": "8db9bbc4-6769-42c5-a5a3-5792c52b7b66",
   "metadata": {},
   "source": [
    "## Cost savings"
   ]
  },
  {
   "cell_type": "code",
   "execution_count": null,
   "id": "9e214c9e-f566-4126-9431-7d85d67323df",
   "metadata": {},
   "outputs": [],
   "source": [
    "def discount(a):\n",
    "    '''Discounts vary with volume'''\n",
    "    if a>=0 and a<=15000:\n",
    "        return 0\n",
    "    elif a<=25000:\n",
    "        return 2\n",
    "    elif a<=40000:\n",
    "        return 3\n",
    "    else:\n",
    "        return 4"
   ]
  },
  {
   "cell_type": "code",
   "execution_count": null,
   "id": "7a6e6f4b-9b8d-478f-b109-e2b3ad4d65fa",
   "metadata": {},
   "outputs": [],
   "source": [
    "## inflation dataframe\n",
    "arr1=np.array([0.009,0.002,0.002,0.004,0.001,-0.001,0,0.001,0.002,0.001,0.003,-0.004])\n",
    "infla=pd.DataFrame(arr1,columns=['inflation'])"
   ]
  },
  {
   "cell_type": "code",
   "execution_count": null,
   "id": "40c097f2-50ae-4a17-a981-fb9ad46475ff",
   "metadata": {},
   "outputs": [],
   "source": [
    "## purchase amount of each station\n",
    "total_purchase=invoices.groupby('Invoice Gas Station Location')['Amount Purchased'].sum()\n",
    "## purchase volume each time for each station\n",
    "purchase_volume_eachtime=total_tank_capacity-safety_stock\n",
    "## last purchase volume for each station\n",
    "last_purchase=(total_purchase-total_tank_capacity)%purchase_volume_eachtime"
   ]
  },
  {
   "cell_type": "code",
   "execution_count": null,
   "id": "958ab52e-aac4-44c9-8db9-c87d4e921a73",
   "metadata": {},
   "outputs": [],
   "source": [
    "saving_list = []\n",
    "\n",
    "# Calculate savings for each station\n",
    "for i in range(1, 9):  \n",
    "    saving = total_tank_capacity[i] * discount(total_tank_capacity[i]) + \\\n",
    "             (total_purchase[i] - total_tank_capacity[i]) // purchase_volume_eachtime[i] * purchase_volume_eachtime[i] * \\\n",
    "             discount(purchase_volume_eachtime[i]) + \\\n",
    "             last_purchase[i] * discount(last_purchase[i])\n",
    "    saving_list.append(saving)\n",
    "\n",
    "# Convert the list to a pd.Series with the specified index\n",
    "saving_cost = pd.Series(saving_list, index=['Station1', 'Station2', 'Station3', 'Station4', 'Station5', 'Station6', 'Station7', 'Station8'])\n",
    "saving_cost"
   ]
  },
  {
   "cell_type": "markdown",
   "id": "cc9a11b1-00c2-446d-914e-e99eea6c5439",
   "metadata": {},
   "source": [
    "## Ordering day"
   ]
  },
  {
   "cell_type": "code",
   "execution_count": null,
   "id": "1ecdb3a9-bb95-4ded-94ac-eb4f7fe57098",
   "metadata": {},
   "outputs": [],
   "source": [
    "## assign Weekday to Date\n",
    "fuel['Date'] = pd.to_datetime(fuel['Time stamp'])\n",
    "fuel['Weekday'] = fuel['Date'].dt.day_name()\n",
    "fuel"
   ]
  },
  {
   "cell_type": "code",
   "execution_count": null,
   "id": "75abc7e7-2b5b-46b7-8c70-fa2e86d06fa4",
   "metadata": {},
   "outputs": [],
   "source": [
    "## find order day by boxplot\n",
    "sns.set_style(\"darkgrid\")\n",
    "axes = sns.boxplot(data=fuel, x=\"Weekday\", y=\"Fuel Level\", palette=\"Set2\")\n",
    "axes.set(xlabel=\"Weekday\",title=\"Different Fuel Level of Weekday\")\n",
    "plt.show()"
   ]
  },
  {
   "cell_type": "markdown",
   "id": "ecb2f71b-621d-4d86-a9c1-78a13d3b47a0",
   "metadata": {},
   "source": [
    "the average fuel level from Sunday to Saturday are approximately the same, except for level of Monday is a little bit lower. The minimum value of Monday is the least one, and lower and higher quantile of Monday is nearly the least too. The maximum value of Monday is at a lower level. Thus we can consider ordering fuel on Monday."
   ]
  },
  {
   "cell_type": "markdown",
   "id": "17a65c71-6ba0-4bfe-878f-62b926e14eab",
   "metadata": {},
   "source": [
    "## Increasing capacity"
   ]
  },
  {
   "cell_type": "code",
   "execution_count": null,
   "id": "d901ae1d-a11c-403b-aaa8-814dd7846d0e",
   "metadata": {},
   "outputs": [],
   "source": [
    "## number of weeks from 2017-01-01 to 2019-08-15\n",
    "d1=datetime.datetime(2017,1,1)\n",
    "d2=datetime.datetime(2019,8,15)\n",
    "days=(d2-d1).days\n",
    "week_num=days/7\n",
    "\n",
    "combined_fuel_tank['Time stamp'] = pd.to_datetime(combined_fuel_tank['Time stamp'])\n",
    "combined_fuel_tank['Date'] = combined_fuel_tank['Time stamp'].dt.date\n",
    "## calculating daily consumption for each tank\n",
    "daily_consumption = combined_fuel_tank.groupby(['Tank Location','Tank ID', 'Date']).agg({'Fuel Level': ['max', 'min']})\n",
    "daily_consumption['Daily_Consumption'] = daily_consumption[('Fuel Level', 'max')] - daily_consumption[('Fuel Level', 'min')]\n",
    "## calculating average consumption for each station, each week\n",
    "average_consumption=daily_consumption.groupby('Tank Location')[[('Daily_Consumption','')]].sum()/week_num\n",
    "\n",
    "## find whether to increase capacity \n",
    "plt_1 = plt.plot(average_consumption.index,average_consumption , \"red\", label=\"Average weekly consumption per station\")\n",
    "plt_2 = plt.plot(total_tank_capacity.index, total_tank_capacity, \"purple\", label=\"Capacity for each station\")\n",
    "difference=total_tank_capacity-average_consumption[('Daily_Consumption','')]\n",
    "plt_3 = plt.plot(difference.index,difference, \"green\", label=\"Difference\")\n",
    "ratio=difference/total_tank_capacity\n",
    "plt_4 = plt.plot(ratio.index,ratio, \"black\", label=\"Ratio\")\n",
    "\n",
    "plt.title(\"Comparision between weekly consumption and capacity\")\n",
    "plt.xlabel(\"station\")\n",
    "plt.ylabel(\"amount\")\n",
    "\n",
    "plt.legend()"
   ]
  },
  {
   "cell_type": "markdown",
   "id": "be04803a-b878-4935-8fef-97b51f063e6b",
   "metadata": {},
   "source": [
    "For all station, average weekly consumption amount is smaller than capacity, it's not that urgent to increase capacity of existing tanks.\n",
    "If we only care about the difference between capacity and average consumption, then the difference for station 7 is the smallest one. Thus station 7 would benefit most from increasing capacity.\n",
    "If we care about the ratio of difference to capacity, the ratio of each station seemd to be the same from the above chart. But if we put it in a separate chart like the following chart, we can find the ratio for station 1 is the lowest, namely the proportion of free capacity for station 1 is minimal, thus station 1 would benefit most from increasing capacity."
   ]
  },
  {
   "cell_type": "code",
   "execution_count": null,
   "id": "614b91e0-106f-40b7-8a59-ebf367c57f49",
   "metadata": {},
   "outputs": [],
   "source": [
    "difference=total_tank_capacity-average_consumption[('Daily_Consumption','')]\n",
    "ratio=difference/total_tank_capacity\n",
    "plt_1 = plt.plot(ratio.index,ratio, \"black\", label=\"Ratio\")\n",
    "\n",
    "plt.title(\"Comparision between weekly consumption and capacity\")\n",
    "plt.xlabel(\"station\")\n",
    "plt.ylabel(\"amount\")\n",
    "\n",
    "plt.legend()"
   ]
  },
  {
   "cell_type": "markdown",
   "id": "310a2d25-6317-401d-9b03-ab83b0c3da28",
   "metadata": {},
   "source": [
    "## explore fuel type"
   ]
  },
  {
   "cell_type": "code",
   "execution_count": null,
   "id": "8b0cc155-575b-4a32-9c16-d77c4ef94ea1",
   "metadata": {},
   "outputs": [],
   "source": [
    "combined_fuel_tank['Time stamp'] = pd.to_datetime(combined_fuel_tank['Time stamp'])\n",
    "combined_fuel_tank['Date'] = combined_fuel_tank['Time stamp'].dt.date\n",
    "combined_fuel_tank1=combined_fuel_tank.merge(tanks, on =\"Tank ID\", how=\"inner\")"
   ]
  },
  {
   "cell_type": "code",
   "execution_count": null,
   "id": "388c7042-1794-4f53-a098-94e98c60e317",
   "metadata": {},
   "outputs": [],
   "source": [
    "## consumption of fuel D\n",
    "combined_fuel_tank1D=combined_fuel_tank1[combined_fuel_tank1['Tank Type']=='D']\n",
    "## calculating daily consumption for each tank\n",
    "daily_consumptionD = combined_fuel_tank1D.groupby(['Tank Location_x','Tank ID', 'Date']).agg({'Fuel Level': ['max', 'min']})\n",
    "daily_consumptionD['Daily_Consumption'] = daily_consumptionD[('Fuel Level', 'max')] - daily_consumptionD[('Fuel Level', 'min')]\n",
    "## calculating average consumption for each station\n",
    "average_consumptionD=daily_consumptionD.groupby('Tank Location_x')[[('Daily_Consumption','')]].sum()"
   ]
  },
  {
   "cell_type": "code",
   "execution_count": null,
   "id": "eb742384-5f90-4e46-bfa1-edf75da1eae6",
   "metadata": {},
   "outputs": [],
   "source": [
    "## consumption of fuel U,P\n",
    "combined_fuel_tank1G=combined_fuel_tank1[combined_fuel_tank1['Tank Type']!='D']\n",
    "## calculating daily consumption for each tank\n",
    "daily_consumptionG = combined_fuel_tank1G.groupby(['Tank Location_x','Tank ID', 'Date']).agg({'Fuel Level': ['max', 'min']})\n",
    "daily_consumptionG['Daily_Consumption'] = daily_consumptionG[('Fuel Level', 'max')] - daily_consumptionG[('Fuel Level', 'min')]\n",
    "## calculating average consumption for each station\n",
    "average_consumptionG=daily_consumptionG.groupby('Tank Location_x')[[('Daily_Consumption','')]].sum()"
   ]
  },
  {
   "cell_type": "code",
   "execution_count": null,
   "id": "ef08706c-3eae-49f5-ad78-a938af71891d",
   "metadata": {},
   "outputs": [],
   "source": [
    "## purchase amount of fuel D in each station\n",
    "invoicesd = invoices[invoices['Fuel Type']=='D']\n",
    "invoicesd=invoicesd.groupby(['Invoice Gas Station Location'])['Amount Purchased'].sum()\n",
    "invoicesd"
   ]
  },
  {
   "cell_type": "code",
   "execution_count": null,
   "id": "4b3717b6-c6fd-430a-baeb-221fd9ff96cb",
   "metadata": {},
   "outputs": [],
   "source": [
    "## purchase amount of fuel G in each station\n",
    "invoicesg = invoices[invoices['Fuel Type']=='G']\n",
    "invoicesg=invoicesg.groupby(['Invoice Gas Station Location'])['Amount Purchased'].sum()\n",
    "invoicesg"
   ]
  },
  {
   "cell_type": "code",
   "execution_count": null,
   "id": "ddcba85d-93fe-4eb0-8b74-cce4683b5842",
   "metadata": {},
   "outputs": [],
   "source": [
    "average_consumptionD"
   ]
  },
  {
   "cell_type": "code",
   "execution_count": null,
   "id": "5d0c285c-673b-4938-8cc2-85a63073997d",
   "metadata": {},
   "outputs": [],
   "source": [
    "## compare fuel D purchase amount and actual consumption\n",
    "plt_1 = plt.plot(invoicesd.index,invoicesd , \"red\", label=\"purchase amount per station\")\n",
    "plt_2 = plt.plot(average_consumptionD.index, average_consumptionD, \"purple\", label=\"actual consumption per station\")\n",
    "\n",
    "difference=invoicesd-average_consumptionD['Daily_Consumption']\n",
    "plt_3 = plt.plot(difference.index,difference, \"green\", label=\"Difference\")\n",
    "\n",
    "\n",
    "plt.title(\"compare fuel D purchase amount and actual consumption\")\n",
    "plt.xlabel(\"station\")\n",
    "plt.ylabel(\"amount\")\n",
    "\n",
    "plt.legend()"
   ]
  },
  {
   "cell_type": "code",
   "execution_count": null,
   "id": "6a89cc97-5c96-4898-beef-38e40a7ca27f",
   "metadata": {},
   "outputs": [],
   "source": [
    "## compare fuel G purchase amount and actual consumption\n",
    "plt_1 = plt.plot(invoicesg.index,invoicesg , \"red\", label=\"purchase amount per station\")\n",
    "plt_2 = plt.plot(average_consumptionG.index, average_consumptionG, \"purple\", label=\"actual consumption per station\")\n",
    "\n",
    "difference=invoicesg-average_consumptionG['Daily_Consumption']\n",
    "plt_3 = plt.plot(difference.index,difference, \"green\", label=\"Difference\")\n",
    "\n",
    "\n",
    "plt.title(\"compare fuel G purchase amount and actual consumption\")\n",
    "plt.xlabel(\"station\")\n",
    "plt.ylabel(\"amount\")\n",
    "\n",
    "plt.legend()"
   ]
  }
 ],
 "metadata": {
  "kernelspec": {
   "display_name": "Python 3 (ipykernel)",
   "language": "python",
   "name": "python3"
  },
  "language_info": {
   "codemirror_mode": {
    "name": "ipython",
    "version": 3
   },
   "file_extension": ".py",
   "mimetype": "text/x-python",
   "name": "python",
   "nbconvert_exporter": "python",
   "pygments_lexer": "ipython3",
   "version": "3.11.5"
  }
 },
 "nbformat": 4,
 "nbformat_minor": 5
}
